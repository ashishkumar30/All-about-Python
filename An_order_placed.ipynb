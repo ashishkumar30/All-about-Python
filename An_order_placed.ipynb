{
  "nbformat": 4,
  "nbformat_minor": 0,
  "metadata": {
    "colab": {
      "name": "An order placed  ",
      "version": "0.3.2",
      "provenance": [],
      "include_colab_link": true
    },
    "kernelspec": {
      "name": "python3",
      "display_name": "Python 3"
    },
    "accelerator": "GPU"
  },
  "cells": [
    {
      "cell_type": "markdown",
      "metadata": {
        "id": "view-in-github",
        "colab_type": "text"
      },
      "source": [
        "<a href=\"https://colab.research.google.com/github/ashishkumar30/All-about-Python/blob/master/An_order_placed.ipynb\" target=\"_parent\"><img src=\"https://colab.research.google.com/assets/colab-badge.svg\" alt=\"Open In Colab\"/></a>"
      ]
    },
    {
      "metadata": {
        "id": "ZgKaXs_BL9Mo",
        "colab_type": "code",
        "colab": {
          "base_uri": "https://localhost:8080/",
          "height": 34
        },
        "outputId": "e157a6cb-38fa-4bdb-fdb9-5d973e5875a0"
      },
      "cell_type": "code",
      "source": [
        "\n",
        "from kiteconnect import KiteTicker               \n",
        "from kiteconnect import KiteConnect  \n",
        "api_key='inx2yhl01h5udgec'                      \n",
        "api_secret='g98wb0d7lub0mjak9kf5ipqy3hj0awa9'   \n",
        "kite=KiteConnect(api_key,api_secret)\n",
        "kite.login_url() "
      ],
      "execution_count": 22,
      "outputs": [
        {
          "output_type": "execute_result",
          "data": {
            "text/plain": [
              "'https://kite.trade/connect/login?api_key=inx2yhl01h5udgec&v=3'"
            ]
          },
          "metadata": {
            "tags": []
          },
          "execution_count": 22
        }
      ]
    },
    {
      "metadata": {
        "id": "QFoECj_uOZfh",
        "colab_type": "code",
        "colab": {}
      },
      "cell_type": "code",
      "source": [
        "#now after getting token fill token in this :"
      ],
      "execution_count": 0,
      "outputs": []
    },
    {
      "metadata": {
        "id": "TDYzeFT3PIb5",
        "colab_type": "code",
        "colab": {}
      },
      "cell_type": "code",
      "source": [
        "#import libaries \n",
        "\n",
        "import logging\n",
        "from kiteconnect import KiteConnect\n",
        "\n",
        "logging.basicConfig(level=logging.DEBUG)\n",
        "\n",
        "#enter api key here again\n",
        "kite = KiteConnect(api_key=\"**********enter api key here*********\")\n",
        "\n",
        "#enter api secret and token genetated from url \n",
        "\n",
        "data = kite.generate_session(\"******* enter token here*********\", api_secret=\"***************enter api secret here********\")\n",
        "kite.set_access_token(data[\"access_token\"])\n",
        "\n",
        "#to place order i market\n",
        "kite.place_order(\"regular\",\"NSE\",\"SUNPHARMA\",\"BUY\",1,\"NRML\",\"MARKET\")\n",
        "\n",
        "kite.orders() #it will shows all the order placed"
      ],
      "execution_count": 0,
      "outputs": []
    }
  ]
}