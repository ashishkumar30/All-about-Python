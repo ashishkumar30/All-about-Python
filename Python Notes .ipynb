{
 "cells": [
  {
   "cell_type": "markdown",
   "metadata": {},
   "source": [
    "# Notes Python"
   ]
  },
  {
   "cell_type": "markdown",
   "metadata": {},
   "source": [
    "# ____Dictionary format____"
   ]
  },
  {
   "cell_type": "code",
   "execution_count": 6,
   "metadata": {},
   "outputs": [
    {
     "data": {
      "text/plain": [
       "{'name': 'ashish', 'roll no': 32, 'age': 24}"
      ]
     },
     "execution_count": 6,
     "metadata": {},
     "output_type": "execute_result"
    }
   ],
   "source": [
    "a={'name': 'ashish', \"roll no\":32, \"age\":24}\n",
    "a"
   ]
  },
  {
   "cell_type": "code",
   "execution_count": 7,
   "metadata": {},
   "outputs": [
    {
     "data": {
      "text/plain": [
       "{'name': 'ashish', 'branch': 'cse', 'roll': 2514332}"
      ]
     },
     "execution_count": 7,
     "metadata": {},
     "output_type": "execute_result"
    }
   ],
   "source": [
    "a=dict(name=\"ashish\", branch= \"cse\", roll=2514332)\n",
    "a"
   ]
  },
  {
   "cell_type": "code",
   "execution_count": 5,
   "metadata": {},
   "outputs": [
    {
     "name": "stdout",
     "output_type": "stream",
     "text": [
      "{'name': 'ashish', 'rolllno': 2524332, 'branch': 'cse', 'college': 'UIET', 'movies': ['hiixdbbd', 'dygfgcvoogcud', 'ccblbvcc']}\n"
     ]
    }
   ],
   "source": [
    "user_info = {\n",
    "    \n",
    "    \"name\":\"ashish\",\n",
    "    \"rolllno\":2524332,\n",
    "    \"branch\":\"cse\",\n",
    "    \"college\": \"UIET\",\n",
    "    \"movies\":[\"hiixdbbd\",\"dygfgcvoogcud\",\"ccblbvcc\"]    \n",
    "             }\n",
    "print(user_info)"
   ]
  },
  {
   "cell_type": "markdown",
   "metadata": {},
   "source": [
    "# Accesss data of dictionary"
   ]
  },
  {
   "cell_type": "code",
   "execution_count": 9,
   "metadata": {},
   "outputs": [
    {
     "name": "stdout",
     "output_type": "stream",
     "text": [
      "['hiixdbbd', 'dygfgcvoogcud', 'ccblbvcc']\n"
     ]
    }
   ],
   "source": [
    "user_info = {\n",
    "    \"name\":\"ashish\",\n",
    "    \"rolllno\":2524332,\n",
    "    \"branch\":\"cse\",\n",
    "    \"college\": \"UIET\",\n",
    "    \"movies\":[\"hiixdbbd\",\"dygfgcvoogcud\",\"ccblbvcc\"]    \n",
    "             }\n",
    "print(user_info[\"movies\"])"
   ]
  },
  {
   "cell_type": "markdown",
   "metadata": {},
   "source": [
    "Get method to access values of key "
   ]
  },
  {
   "cell_type": "code",
   "execution_count": 27,
   "metadata": {},
   "outputs": [
    {
     "data": {
      "text/plain": [
       "'cse'"
      ]
     },
     "execution_count": 27,
     "metadata": {},
     "output_type": "execute_result"
    }
   ],
   "source": [
    "user_info = {\n",
    "    \"name\":\"ashish\",\n",
    "    \"rolllno\":2524332,\n",
    "    \"branch\":\"cse\",\n",
    "    \"college\": \"UIET\",\n",
    "    \"movies\":[\"hiixdbbd\",\"dygfgcvoogcud\",\"ccblbvcc\"]    \n",
    "             }\n",
    "a=user_info.get(\"branch\")\n",
    "a"
   ]
  },
  {
   "cell_type": "markdown",
   "metadata": {},
   "source": [
    "# How to add data into dictionary :\n",
    "    "
   ]
  },
  {
   "cell_type": "code",
   "execution_count": 3,
   "metadata": {},
   "outputs": [
    {
     "data": {
      "text/plain": [
       "{'name': 'mohit', 'classes': 'cse', 'Roll': 214524}"
      ]
     },
     "execution_count": 3,
     "metadata": {},
     "output_type": "execute_result"
    }
   ],
   "source": [
    "user_info2={}\n",
    "user_info2[\"name\"]=\"mohit\"\n",
    "user_info2[\"classes\"]= \"cse\"\n",
    "user_info2[\"Roll\"]= 214524\n",
    "user_info2"
   ]
  },
  {
   "cell_type": "markdown",
   "metadata": {},
   "source": [
    "# Add data to dict"
   ]
  },
  {
   "cell_type": "code",
   "execution_count": 14,
   "metadata": {},
   "outputs": [
    {
     "data": {
      "text/plain": [
       "{'name': 'mohit', 'classes': 'cse', 'Roll': 214524, 'food': 'rajma chawal'}"
      ]
     },
     "execution_count": 14,
     "metadata": {},
     "output_type": "execute_result"
    }
   ],
   "source": [
    "user_info2={}\n",
    "user_info2[\"name\"]=\"mohit\"\n",
    "user_info2[\"classes\"]= \"cse\"\n",
    "user_info2[\"Roll\"]= 214524\n",
    "user_info2[\"food\"]=\"rajma chawal\"\n",
    "user_info2\n"
   ]
  },
  {
   "cell_type": "markdown",
   "metadata": {},
   "source": [
    "POP method in dictionary  (to delete )"
   ]
  },
  {
   "cell_type": "code",
   "execution_count": 17,
   "metadata": {},
   "outputs": [
    {
     "name": "stdout",
     "output_type": "stream",
     "text": [
      "214524\n"
     ]
    },
    {
     "data": {
      "text/plain": [
       "{'name': 'mohit', 'classes': 'cse'}"
      ]
     },
     "execution_count": 17,
     "metadata": {},
     "output_type": "execute_result"
    }
   ],
   "source": [
    "user_info2={}\n",
    "user_info2[\"name\"]=\"mohit\"\n",
    "user_info2[\"classes\"]= \"cse\"\n",
    "user_info2[\"Roll\"]= 214524\n",
    "d=user_info2.pop(\"Roll\")\n",
    "print(d)\n",
    "user_info2"
   ]
  },
  {
   "cell_type": "markdown",
   "metadata": {},
   "source": [
    "UPDATE method "
   ]
  },
  {
   "cell_type": "code",
   "execution_count": 26,
   "metadata": {},
   "outputs": [
    {
     "data": {
      "text/plain": [
       "{'name': 'ashish',\n",
       " 'rolllno': 2524332,\n",
       " 'branch': 'cse',\n",
       " 'college': 'UIET',\n",
       " 'movies': ['hiixdbbd', 'dygfgcvoogcud', 'ccblbvcc'],\n",
       " 'other': 'ashish',\n",
       " 'rollln': 2524332,\n",
       " 'branc': 'cse',\n",
       " 'colleg': 'UIET',\n",
       " 'movie': ['hiixdbbd', 'dygfgcvoogcud', 'ccblbvcc']}"
      ]
     },
     "execution_count": 26,
     "metadata": {},
     "output_type": "execute_result"
    }
   ],
   "source": [
    "user_info = {\n",
    "    \"name\":\"ashish\",\n",
    "    \"rolllno\":2524332,\n",
    "    \"branch\":\"cse\",\n",
    "    \"college\": \"UIET\",\n",
    "    \"movies\":[\"hiixdbbd\",\"dygfgcvoogcud\",\"ccblbvcc\"] }\n",
    "user_info \n",
    "user_info2 = { \"other\":\"ashish\",\n",
    "    \"rollln\":2524332,\n",
    "    \"branc\":\"cse\",\n",
    "    \"colleg\": \"UIET\",\n",
    "    \"movie\":[\"hiixdbbd\",\"dygfgcvoogcud\",\"ccblbvcc\"] }\n",
    "\n",
    "user_info.update(user_info2)\n",
    "user_info"
   ]
  },
  {
   "cell_type": "markdown",
   "metadata": {},
   "source": [
    "# Methods in dictionary "
   ]
  },
  {
   "cell_type": "markdown",
   "metadata": {},
   "source": [
    "Clear method"
   ]
  },
  {
   "cell_type": "code",
   "execution_count": 31,
   "metadata": {},
   "outputs": [
    {
     "data": {
      "text/plain": [
       "{}"
      ]
     },
     "execution_count": 31,
     "metadata": {},
     "output_type": "execute_result"
    }
   ],
   "source": [
    "user_info = {\n",
    "    \"name\":\"ashish\",\n",
    "    \"rolllno\":2524332,\n",
    "    \"branch\":\"cse\",\n",
    "    \"college\": \"UIET\",\n",
    "    \"movies\":[\"hiixdbbd\",\"dygfgcvoogcud\",\"ccblbvcc\"] }\n",
    "user_info.clear()\n",
    "user_info"
   ]
  },
  {
   "cell_type": "markdown",
   "metadata": {},
   "source": [
    "Copy of dictionary"
   ]
  },
  {
   "cell_type": "code",
   "execution_count": 51,
   "metadata": {},
   "outputs": [
    {
     "data": {
      "text/plain": [
       "{'name': 'ashish',\n",
       " 'rolllno': 2524332,\n",
       " 'branch': 'cse',\n",
       " 'college': 'UIET',\n",
       " 'movies': ['hiixdbbd', 'dygfgcvoogcud', 'ccblbvcc']}"
      ]
     },
     "execution_count": 51,
     "metadata": {},
     "output_type": "execute_result"
    }
   ],
   "source": [
    "user_info = {\n",
    "    \"name\":\"ashish\",\n",
    "    \"rolllno\":2524332,\n",
    "    \"branch\":\"cse\",\n",
    "    \"college\": \"UIET\",\n",
    "    \"movies\":[\"hiixdbbd\",\"dygfgcvoogcud\",\"ccblbvcc\"] }\n",
    "user_info\n"
   ]
  },
  {
   "cell_type": "code",
   "execution_count": 52,
   "metadata": {},
   "outputs": [
    {
     "data": {
      "text/plain": [
       "{'name': 'ashish',\n",
       " 'rolllno': 2524332,\n",
       " 'branch': 'cse',\n",
       " 'college': 'UIET',\n",
       " 'movies': ['hiixdbbd', 'dygfgcvoogcud', 'ccblbvcc']}"
      ]
     },
     "execution_count": 52,
     "metadata": {},
     "output_type": "execute_result"
    }
   ],
   "source": [
    "a=user_info.copy()\n",
    "a"
   ]
  },
  {
   "cell_type": "markdown",
   "metadata": {},
   "source": [
    "Code to find cubes in dictionary "
   ]
  },
  {
   "cell_type": "code",
   "execution_count": 54,
   "metadata": {},
   "outputs": [
    {
     "data": {
      "text/plain": [
       "{1: 1, 2: 8, 3: 27}"
      ]
     },
     "execution_count": 54,
     "metadata": {},
     "output_type": "execute_result"
    }
   ],
   "source": [
    "def cube(n):\n",
    "    cubes={}\n",
    "    for i in range (1, n+1):\n",
    "        cubes[i]=i**3\n",
    "    return cubes\n",
    "cube(3)"
   ]
  },
  {
   "cell_type": "markdown",
   "metadata": {},
   "source": [
    "example"
   ]
  },
  {
   "cell_type": "code",
   "execution_count": 59,
   "metadata": {},
   "outputs": [
    {
     "data": {
      "text/plain": [
       "{'a': 1, 's': 2, 'h': 2, 'i': 1}"
      ]
     },
     "execution_count": 59,
     "metadata": {},
     "output_type": "execute_result"
    }
   ],
   "source": [
    "def cout(n):\n",
    "    count={}\n",
    "    for char in n :\n",
    "        count[char]=n.count(char)\n",
    "    return count\n",
    "cout(\"ashish\")"
   ]
  },
  {
   "cell_type": "markdown",
   "metadata": {},
   "source": [
    "____Dictionary from user input data and to store it in a empty dictionary____"
   ]
  },
  {
   "cell_type": "code",
   "execution_count": 63,
   "metadata": {},
   "outputs": [
    {
     "name": "stdout",
     "output_type": "stream",
     "text": [
      " enter your name ashish\n",
      " enter your class cse\n",
      " enter your rollno 41034\n",
      " enter your hobbies with , sfsgsv,cvficvw\n",
      " enter your movies with , cvwfdiewv,xbviwcfc\n"
     ]
    },
    {
     "data": {
      "text/plain": [
       "{'name': 'ashish',\n",
       " 'clas': 'cse',\n",
       " 'roll': '41034',\n",
       " 'hobbies': ['sfsgsv', 'cvficvw'],\n",
       " 'movies': ['cvwfdiewv', 'xbviwcfc']}"
      ]
     },
     "execution_count": 63,
     "metadata": {},
     "output_type": "execute_result"
    }
   ],
   "source": [
    "dictionary = {}\n",
    "name= input(\" enter your name \")\n",
    "clas= input(\" enter your class \")\n",
    "roll= input(\" enter your rollno \")\n",
    "hobbies= input(\" enter your hobbies with , \").split(\",\")\n",
    "movies= input(\" enter your movies with , \").split(\",\")\n",
    "dictionary [\"name\"]=name\n",
    "dictionary [\"clas\"]=clas\n",
    "dictionary [\"roll\"]=roll\n",
    "dictionary [\"hobbies\"]=hobbies\n",
    "dictionary [\"movies\"]=movies\n",
    "dictionary "
   ]
  },
  {
   "cell_type": "markdown",
   "metadata": {},
   "source": [
    "#  SET's {}"
   ]
  },
  {
   "cell_type": "code",
   "execution_count": 75,
   "metadata": {},
   "outputs": [
    {
     "data": {
      "text/plain": [
       "{1, 2, 4, 6, 7, 8, 9, 2222}"
      ]
     },
     "execution_count": 75,
     "metadata": {},
     "output_type": "execute_result"
    }
   ],
   "source": [
    "a={1,5,8,9,8,9,8,9,9,7,7,5,4,6,9,7,8,2,8,9,7}\n",
    "a.add(2222)\n",
    "a\n",
    "a.remove (5)\n",
    "a\n",
    "a.discard(10) \n",
    "a\n",
    "b=a.copy()\n",
    "b"
   ]
  },
  {
   "cell_type": "markdown",
   "metadata": {},
   "source": [
    "Remove duplicacy in set"
   ]
  },
  {
   "cell_type": "code",
   "execution_count": 74,
   "metadata": {},
   "outputs": [
    {
     "data": {
      "text/plain": [
       "{1, 2, 4, 5, 6, 7, 8, 9}"
      ]
     },
     "execution_count": 74,
     "metadata": {},
     "output_type": "execute_result"
    }
   ],
   "source": [
    "a={1,5,8,9,8,9,8,9,9,7,7,5,4,6,9,7,8,2,8,9,7}\n",
    "b=set(a)\n",
    "b"
   ]
  },
  {
   "cell_type": "markdown",
   "metadata": {},
   "source": [
    "UNION in set's"
   ]
  },
  {
   "cell_type": "code",
   "execution_count": 83,
   "metadata": {},
   "outputs": [
    {
     "data": {
      "text/plain": [
       "{1, 2, 4, 5, 6, 7, 8, 9}"
      ]
     },
     "execution_count": 83,
     "metadata": {},
     "output_type": "execute_result"
    }
   ],
   "source": [
    "a={1,5,8,9,8,9,8,9,9,7,7,5,4,6,9,7,8,2,8,9,7}\n",
    "b={1,5,9,8,9,9,7,7,5,4,6,9,7,8,2,8,9,7}\n",
    "c=a|b\n",
    "c"
   ]
  },
  {
   "cell_type": "code",
   "execution_count": 85,
   "metadata": {},
   "outputs": [
    {
     "data": {
      "text/plain": [
       "{1, 2, 4, 5, 6, 7, 8, 9}"
      ]
     },
     "execution_count": 85,
     "metadata": {},
     "output_type": "execute_result"
    }
   ],
   "source": [
    "\n",
    "a={1,5,8,9,8,9,8,9,9,7,7,5,4,6,9,7,8,2,8,9,7}\n",
    "b={1,5,9,8,9,9,7,7,5,4,6,9,7,8,2,8,9,7}\n",
    "d=( a & b )\n",
    "d"
   ]
  },
  {
   "cell_type": "markdown",
   "metadata": {},
   "source": [
    "# pass statment :\n"
   ]
  },
  {
   "cell_type": "code",
   "execution_count": 1,
   "metadata": {},
   "outputs": [],
   "source": [
    "a=18\n",
    "if a<= 18:\n",
    "    pass"
   ]
  },
  {
   "cell_type": "markdown",
   "metadata": {},
   "source": [
    "#  and operator to check two condition:\n",
    "    "
   ]
  },
  {
   "cell_type": "code",
   "execution_count": 2,
   "metadata": {},
   "outputs": [
    {
     "name": "stdout",
     "output_type": "stream",
     "text": [
      "enter name ashish\n",
      "enter age 15\n",
      " error \n"
     ]
    }
   ],
   "source": [
    "\n",
    "a=str(input(\"enter name \"))\n",
    "n=int(input(\"enter age \"))\n",
    "age = 18 \n",
    "name=( \"ashish\")\n",
    "if a==name and n==age :\n",
    "    print(\" both true\")\n",
    "else:\n",
    "    print (\" error \")\n",
    "    \n"
   ]
  },
  {
   "cell_type": "markdown",
   "metadata": {},
   "source": [
    "# or statment \n"
   ]
  },
  {
   "cell_type": "code",
   "execution_count": 3,
   "metadata": {},
   "outputs": [
    {
     "name": "stdout",
     "output_type": "stream",
     "text": [
      "enter name strting with a or A  a\n",
      "enter age less then 18 \t 14\n",
      " both true\n"
     ]
    }
   ],
   "source": [
    "\n",
    "a=str(input(\"enter name strting with a or A  \"))\n",
    "n=int(input(\"enter age less then 18 \\t \"))\n",
    "age = 18 \n",
    "name=(\"a\" or \"A\")\n",
    "if ( a[0]==name or a[0]==name ) and n <= age :\n",
    "    print(\" both true\")\n",
    "else:\n",
    "    print (\" error \")\n",
    "    "
   ]
  },
  {
   "cell_type": "markdown",
   "metadata": {},
   "source": [
    "# if and elif condition \n",
    "( in if it will check all the statments but in elif when it ges first true statment it runs that )\n",
    "\n"
   ]
  },
  {
   "cell_type": "code",
   "execution_count": 4,
   "metadata": {},
   "outputs": [
    {
     "name": "stdout",
     "output_type": "stream",
     "text": [
      "enter no 15\n",
      " greater then 16....\n",
      "greater then 20...\n"
     ]
    }
   ],
   "source": [
    "a=int(input(\"enter no \"))\n",
    "if a<15: \n",
    "    print(\"less then 15...\")\n",
    "if a<=16 :\n",
    "    print(\" greater then 16....\")\n",
    "if a<=20:\n",
    "    print(\"greater then 20...\")\n",
    "    "
   ]
  },
  {
   "cell_type": "code",
   "execution_count": 5,
   "metadata": {},
   "outputs": [
    {
     "name": "stdout",
     "output_type": "stream",
     "text": [
      "enter no 14\n",
      "less then 15...\n"
     ]
    }
   ],
   "source": [
    "a=int(input(\"enter no \"))\n",
    "if a<15: \n",
    "    print(\"less then 15...\")\n",
    "elif a<=16 :\n",
    "    print(\" greater then 16....\")\n",
    "elif a<=20:\n",
    "    print(\"greater then 20...\")\n",
    "    \n",
    "    "
   ]
  },
  {
   "cell_type": "markdown",
   "metadata": {},
   "source": [
    "#  in statment"
   ]
  },
  {
   "cell_type": "code",
   "execution_count": 6,
   "metadata": {},
   "outputs": [
    {
     "name": "stdout",
     "output_type": "stream",
     "text": [
      " input ashish\n",
      "present\n"
     ]
    }
   ],
   "source": [
    "a= (\"ashish\")\n",
    "z=input(\" input \")\n",
    "if z in a:\n",
    "    print(\"present\")\n",
    "else:\n",
    "    print (\"not present \")\n",
    "    "
   ]
  },
  {
   "cell_type": "markdown",
   "metadata": {},
   "source": [
    "#  to check a list is empty or not "
   ]
  },
  {
   "cell_type": "code",
   "execution_count": 7,
   "metadata": {},
   "outputs": [
    {
     "name": "stdout",
     "output_type": "stream",
     "text": [
      " input or remain empty \n",
      "empty\n"
     ]
    }
   ],
   "source": [
    "a=input((\" input or remain empty \"))\n",
    "if a:\n",
    "    print(\" sometning in it\")\n",
    "else:\n",
    "    print(\"empty\")"
   ]
  },
  {
   "cell_type": "markdown",
   "metadata": {},
   "source": [
    "#  looping concept (while loop)"
   ]
  },
  {
   "cell_type": "markdown",
   "metadata": {},
   "source": [
    "how it works? \n",
    "1. where to start \n",
    "2. where to stop  or (condition)\n",
    "3. what to do ?\n",
    "4.  how to do ?\n"
   ]
  },
  {
   "cell_type": "code",
   "execution_count": 10,
   "metadata": {},
   "outputs": [
    {
     "name": "stdout",
     "output_type": "stream",
     "text": [
      "1 2 3 4 5 "
     ]
    }
   ],
   "source": [
    "i=1                                            # strting point ?\n",
    "while i<=5:                                    #condition when we have to stop loop ?\n",
    "    print(i, end=\" \")                          #what to do ?\n",
    "    i=i+1                                      # how to do ?\n"
   ]
  },
  {
   "cell_type": "markdown",
   "metadata": {},
   "source": [
    "_____Example to sum 1 to 10_____"
   ]
  },
  {
   "cell_type": "code",
   "execution_count": 11,
   "metadata": {},
   "outputs": [
    {
     "name": "stdout",
     "output_type": "stream",
     "text": [
      "0 1 3 6 10 15 21 28 36 45 "
     ]
    }
   ],
   "source": [
    "data=0\n",
    "a=1\n",
    "while a<=10:\n",
    "    print(data, end=\" \")\n",
    "    data=data+a\n",
    "    a=a+1"
   ]
  },
  {
   "cell_type": "markdown",
   "metadata": {},
   "source": [
    "_____example to sum from user input_____"
   ]
  },
  {
   "cell_type": "code",
   "execution_count": 13,
   "metadata": {},
   "outputs": [
    {
     "name": "stdout",
     "output_type": "stream",
     "text": [
      "44\n",
      "0 1 3 6 10 15 21 28 36 45 55 66 78 91 105 120 136 153 171 190 210 231 253 276 300 325 351 378 406 435 465 496 528 561 595 630 666 703 741 780 820 861 903 946 "
     ]
    }
   ],
   "source": [
    "data=0\n",
    "z=int(input( ))\n",
    "a=1\n",
    "while a <=z:\n",
    "    print(data, end=\" \")\n",
    "    data=data+a\n",
    "    a=a+1"
   ]
  },
  {
   "cell_type": "markdown",
   "metadata": {},
   "source": [
    "_____example of adding sum of all numbers as string from user_____"
   ]
  },
  {
   "cell_type": "markdown",
   "metadata": {},
   "source": [
    "tut (55)"
   ]
  },
  {
   "cell_type": "code",
   "execution_count": 16,
   "metadata": {},
   "outputs": [
    {
     "name": "stdout",
     "output_type": "stream",
     "text": [
      " 1\n",
      "1\n"
     ]
    }
   ],
   "source": [
    "number= input(\" \")\n",
    "total=0\n",
    "i=0\n",
    "while i<len(number):\n",
    "    total+=int(number[i])\n",
    "    i+=1\n",
    "print(total)\n"
   ]
  },
  {
   "cell_type": "markdown",
   "metadata": {},
   "source": [
    "_____Example_____  "
   ]
  },
  {
   "cell_type": "markdown",
   "metadata": {},
   "source": [
    "output should be \n",
    "    a:1 \n",
    "    b:2\n",
    "    c:3\n",
    "    d:4\n",
    "    e:5\n",
    "    f:6\n",
    "        \n",
    "        "
   ]
  },
  {
   "cell_type": "code",
   "execution_count": null,
   "metadata": {},
   "outputs": [
    {
     "name": "stdout",
     "output_type": "stream",
     "text": [
      " ashish\n",
      "('a', 1)\n",
      "('s', 2)\n",
      "('h', 2)\n",
      "('i', 1)\n"
     ]
    }
   ],
   "source": [
    "name=input(\" \")\n",
    "temp_var= \" \"\n",
    "i=0\n",
    "while i< len (name):\n",
    "    if name [i] not in temp_var:\n",
    "        temp_var+=name[i]\n",
    "        print(f\"{name[i],name.count(name[i]) }\")\n",
    "        i+=1\n",
    "        "
   ]
  },
  {
   "cell_type": "markdown",
   "metadata": {},
   "source": [
    "# infinite loop \n"
   ]
  },
  {
   "cell_type": "code",
   "execution_count": null,
   "metadata": {},
   "outputs": [],
   "source": [
    "while True :\n",
    "    print(\"hi\", end=\"\")"
   ]
  },
  {
   "cell_type": "markdown",
   "metadata": {},
   "source": [
    "# Examples of for loop "
   ]
  },
  {
   "cell_type": "code",
   "execution_count": 2,
   "metadata": {},
   "outputs": [
    {
     "name": "stdout",
     "output_type": "stream",
     "text": [
      "hellow\n",
      "hellow\n",
      "hellow\n",
      "hellow\n",
      "hellow\n"
     ]
    }
   ],
   "source": [
    "for i in range (5,10):\n",
    "    print(\"hellow\")\n"
   ]
  },
  {
   "cell_type": "code",
   "execution_count": 3,
   "metadata": {},
   "outputs": [
    {
     "name": "stdout",
     "output_type": "stream",
     "text": [
      "946\n"
     ]
    }
   ],
   "source": [
    "total=0\n",
    "for i in range (1,44):\n",
    "    total+=i\n",
    "print(total)\n",
    "\n",
    "    "
   ]
  },
  {
   "cell_type": "markdown",
   "metadata": {},
   "source": [
    "# Diffrent Types of ways to write programe through diffrent methods"
   ]
  },
  {
   "cell_type": "markdown",
   "metadata": {},
   "source": [
    "____Break and continue statment_____"
   ]
  },
  {
   "cell_type": "markdown",
   "metadata": {},
   "source": [
    "break statment "
   ]
  },
  {
   "cell_type": "code",
   "execution_count": 2,
   "metadata": {},
   "outputs": [
    {
     "name": "stdout",
     "output_type": "stream",
     "text": [
      "10 11 12 13 14 15 16 17 "
     ]
    }
   ],
   "source": [
    "for i in range (10,20):\n",
    "    if i == 18:\n",
    "        break \n",
    "    print(i, end=\" \")"
   ]
  },
  {
   "cell_type": "markdown",
   "metadata": {},
   "source": [
    "continue statment\n"
   ]
  },
  {
   "cell_type": "code",
   "execution_count": 9,
   "metadata": {},
   "outputs": [
    {
     "name": "stdout",
     "output_type": "stream",
     "text": [
      "10 11 12 13 14 15 16 17 19 "
     ]
    }
   ],
   "source": [
    "for i in range(10,20):\n",
    "    if i ==18:\n",
    "        continue\n",
    "    print(i, end=\" \")"
   ]
  },
  {
   "cell_type": "code",
   "execution_count": 9,
   "metadata": {},
   "outputs": [
    {
     "name": "stdout",
     "output_type": "stream",
     "text": [
      "3\n",
      "9\n"
     ]
    }
   ],
   "source": [
    "def funct (int1,int2):\n",
    "    add=int1=int2\n",
    "    multiply =int1*int2\n",
    "    return add, multiply\n",
    "add, multiply = funct (2,3)\n",
    "print(add)\n",
    "print(multiply)"
   ]
  },
  {
   "cell_type": "markdown",
   "metadata": {},
   "source": [
    "# Exception Handling"
   ]
  },
  {
   "cell_type": "code",
   "execution_count": null,
   "metadata": {},
   "outputs": [],
   "source": [
    "while True:\n",
    "    try:\n",
    "        age=int(input(\"enter age\"))\n",
    "        break\n",
    "    except ValueError:\n",
    "        print(\"value error\")\n",
    "    except:\n",
    "        prnt(\"other\")\n",
    "if age<18:\n",
    "    \n",
    "    print(\"cant\")\n",
    "else:\n",
    "    print(\"yes\")"
   ]
  },
  {
   "cell_type": "markdown",
   "metadata": {},
   "source": [
    "# Raise Error"
   ]
  },
  {
   "cell_type": "code",
   "execution_count": 13,
   "metadata": {},
   "outputs": [
    {
     "data": {
      "text/plain": [
       "4"
      ]
     },
     "execution_count": 13,
     "metadata": {},
     "output_type": "execute_result"
    }
   ],
   "source": [
    "def add(a,b):\n",
    "    if (type(a) is int) and (type(b) is int):\n",
    "        return (a+b)\n",
    "    raise TypeError (\"please pass integers as a abd b\")\n",
    "a=add(2,2)\n",
    "a"
   ]
  },
  {
   "cell_type": "code",
   "execution_count": null,
   "metadata": {},
   "outputs": [],
   "source": [
    "def add(a,b):\n",
    "    if (type(a) is int) and (type(b) is int):\n",
    "        return (a+b)\n",
    "    raise TypeError (\"please pass integers as a abd b\")\n",
    "a=add(2,\"i\")\n",
    "a"
   ]
  },
  {
   "cell_type": "markdown",
   "metadata": {},
   "source": [
    "#  step Argument"
   ]
  },
  {
   "cell_type": "code",
   "execution_count": 11,
   "metadata": {},
   "outputs": [
    {
     "name": "stdout",
     "output_type": "stream",
     "text": [
      "10 12 14 16 18 "
     ]
    }
   ],
   "source": [
    "for i in range (10,20,2):\n",
    "    print(i, end=\" \")"
   ]
  },
  {
   "cell_type": "code",
   "execution_count": 12,
   "metadata": {},
   "outputs": [
    {
     "name": "stdout",
     "output_type": "stream",
     "text": [
      "10 8 6 4 2 "
     ]
    }
   ],
   "source": [
    "for i in range (10,1,-2):\n",
    "    print(i, end=\" \")"
   ]
  },
  {
   "cell_type": "code",
   "execution_count": 13,
   "metadata": {},
   "outputs": [
    {
     "name": "stdout",
     "output_type": "stream",
     "text": [
      "1 -1 -3 -5 -7 -9 "
     ]
    }
   ],
   "source": [
    "for i in range (1,-10,-2):\n",
    "    print(i, end=\" \")"
   ]
  },
  {
   "cell_type": "markdown",
   "metadata": {},
   "source": [
    "# Functions In Python\n"
   ]
  },
  {
   "cell_type": "code",
   "execution_count": 1,
   "metadata": {},
   "outputs": [
    {
     "data": {
      "text/plain": [
       "6"
      ]
     },
     "execution_count": 1,
     "metadata": {},
     "output_type": "execute_result"
    }
   ],
   "source": [
    "def addit(a,b):\n",
    "        return a+b\n",
    "x=addit(2,4)\n",
    "x"
   ]
  },
  {
   "cell_type": "markdown",
   "metadata": {},
   "source": [
    " _____subscriptable error  : means that you have to pass string and you are passig integer value____\n",
    "    "
   ]
  },
  {
   "cell_type": "markdown",
   "metadata": {},
   "source": [
    "#  function without using else statmet"
   ]
  },
  {
   "cell_type": "code",
   "execution_count": 4,
   "metadata": {},
   "outputs": [
    {
     "data": {
      "text/plain": [
       "True"
      ]
     },
     "execution_count": 4,
     "metadata": {},
     "output_type": "execute_result"
    }
   ],
   "source": [
    "def adding (int):\n",
    "    if int%2==0:\n",
    "        return True\n",
    "    return False\n",
    "adding(4)\n"
   ]
  },
  {
   "cell_type": "code",
   "execution_count": 5,
   "metadata": {},
   "outputs": [
    {
     "data": {
      "text/plain": [
       "2"
      ]
     },
     "execution_count": 5,
     "metadata": {},
     "output_type": "execute_result"
    }
   ],
   "source": [
    "def greater (a,b):\n",
    "    if a<b:\n",
    "        return a\n",
    "    return b\n",
    "greater (2,3)"
   ]
  },
  {
   "cell_type": "code",
   "execution_count": 6,
   "metadata": {},
   "outputs": [
    {
     "data": {
      "text/plain": [
       "2"
      ]
     },
     "execution_count": 6,
     "metadata": {},
     "output_type": "execute_result"
    }
   ],
   "source": [
    "def greater (a,b):\n",
    "    if a<b:\n",
    "        return a\n",
    "    return b\n",
    "\n",
    "def greatest (a,b,c):\n",
    "    if a>b and a>c :\n",
    "        return a \n",
    "    elif b<a and b<c :\n",
    "        return b \n",
    "    else :\n",
    "        return c \n",
    "\n",
    "def new_greatest (a,b,c):\n",
    "        bigger =greater (a,b)\n",
    "        return greater (bigger,c)\n",
    "new_greatest(3,2,5)"
   ]
  },
  {
   "cell_type": "markdown",
   "metadata": {},
   "source": [
    "#  to reverse a string\n"
   ]
  },
  {
   "cell_type": "code",
   "execution_count": 8,
   "metadata": {},
   "outputs": [
    {
     "name": "stdout",
     "output_type": "stream",
     "text": [
      "hsihsa\n"
     ]
    }
   ],
   "source": [
    "\n",
    "a=(\"ashish\")\n",
    "print(a[: : -1 ])"
   ]
  },
  {
   "cell_type": "markdown",
   "metadata": {},
   "source": [
    "# Default parameters "
   ]
  },
  {
   "cell_type": "markdown",
   "metadata": {},
   "source": [
    "none unknown and others "
   ]
  },
  {
   "cell_type": "markdown",
   "metadata": {},
   "source": [
    "None : this is used as default parameter for integer value, when we dont want to pass anything in it just want to leave empty"
   ]
  },
  {
   "cell_type": "code",
   "execution_count": 10,
   "metadata": {},
   "outputs": [
    {
     "name": "stdout",
     "output_type": "stream",
     "text": [
      "None Unknown\n"
     ]
    }
   ],
   "source": [
    "def ashish ( age= None, name = \"Unknown\"):\n",
    "    print(age,name)\n",
    "ashish()\n"
   ]
  },
  {
   "cell_type": "code",
   "execution_count": 11,
   "metadata": {},
   "outputs": [
    {
     "name": "stdout",
     "output_type": "stream",
     "text": [
      "ayush param ashish\n"
     ]
    }
   ],
   "source": [
    "def ashish ( name=\"rajat\",age= None, secondname = \"ashish\"):\n",
    "    print(name,age,secondname)\n",
    "ashish(\"ayush\",\"param\")"
   ]
  },
  {
   "cell_type": "markdown",
   "metadata": {},
   "source": [
    "# Scope of functions"
   ]
  },
  {
   "cell_type": "markdown",
   "metadata": {},
   "source": [
    "#  How to change values of list"
   ]
  },
  {
   "cell_type": "code",
   "execution_count": 13,
   "metadata": {},
   "outputs": [
    {
     "name": "stdout",
     "output_type": "stream",
     "text": [
      "['ashish', 22, 88, 85.52, 'rajat']\n"
     ]
    }
   ],
   "source": [
    "list=[\"ashish\",22,55,85.52,\"rajat\"]\n",
    "list[2]=88\n",
    "print(list)"
   ]
  },
  {
   "cell_type": "markdown",
   "metadata": {},
   "source": [
    "#  Add data to list "
   ]
  },
  {
   "cell_type": "markdown",
   "metadata": {},
   "source": [
    "Append function will add the data only in last of list"
   ]
  },
  {
   "cell_type": "code",
   "execution_count": 16,
   "metadata": {},
   "outputs": [
    {
     "name": "stdout",
     "output_type": "stream",
     "text": [
      "['ashish', 22, 55, 85.52, 'rajat', 'manish']\n"
     ]
    }
   ],
   "source": [
    "list=[\"ashish\",22,55,85.52,\"rajat\"]\n",
    "list.append(\"manish\")\n",
    "print(list)"
   ]
  },
  {
   "cell_type": "markdown",
   "metadata": {},
   "source": [
    "Add elements in blank list (append)"
   ]
  },
  {
   "cell_type": "code",
   "execution_count": 18,
   "metadata": {},
   "outputs": [
    {
     "data": {
      "text/plain": [
       "['ashish', 'ashish', 'ashish', 'ashish']"
      ]
     },
     "execution_count": 18,
     "metadata": {},
     "output_type": "execute_result"
    }
   ],
   "source": [
    "a= []\n",
    "a.append(\"ashish\")\n",
    "a.append(\"ashish\")\n",
    "a.append(\"ashish\")\n",
    "a.append(\"ashish\")\n",
    "a"
   ]
  },
  {
   "cell_type": "markdown",
   "metadata": {},
   "source": [
    "how to insetr element is any position of list (insert )"
   ]
  },
  {
   "cell_type": "code",
   "execution_count": 20,
   "metadata": {},
   "outputs": [
    {
     "data": {
      "text/plain": [
       "['ashish', 'Manish', 'rajat', 'himanshu']"
      ]
     },
     "execution_count": 20,
     "metadata": {},
     "output_type": "execute_result"
    }
   ],
   "source": [
    "a=[\"ashish\",\"rajat\",\"himanshu\"]\n",
    "a.insert(1,\"Manish\")\n",
    "a"
   ]
  },
  {
   "cell_type": "markdown",
   "metadata": {},
   "source": [
    "To add two strings (+)"
   ]
  },
  {
   "cell_type": "code",
   "execution_count": 22,
   "metadata": {},
   "outputs": [
    {
     "data": {
      "text/plain": [
       "['ashish', 'rajat', 'himanshu', 'ash', 'rat', 'hima']"
      ]
     },
     "execution_count": 22,
     "metadata": {},
     "output_type": "execute_result"
    }
   ],
   "source": [
    "a=[\"ashish\",\"rajat\",\"himanshu\"]\n",
    "b=[\"ash\",\"rat\",\"hima\"]\n",
    "c=a+b\n",
    "c"
   ]
  },
  {
   "cell_type": "markdown",
   "metadata": {},
   "source": [
    "To add a list into a list we use (append)"
   ]
  },
  {
   "cell_type": "code",
   "execution_count": 24,
   "metadata": {},
   "outputs": [
    {
     "data": {
      "text/plain": [
       "['ashish', 'rajat', 'himanshu', ['ash', 'rat', 'hima']]"
      ]
     },
     "execution_count": 24,
     "metadata": {},
     "output_type": "execute_result"
    }
   ],
   "source": [
    "a=[\"ashish\",\"rajat\",\"himanshu\"]\n",
    "b=[\"ash\",\"rat\",\"hima\"]\n",
    "a.append(b)\n",
    "a"
   ]
  },
  {
   "cell_type": "markdown",
   "metadata": {},
   "source": [
    "how to use ( extend )\n"
   ]
  },
  {
   "cell_type": "code",
   "execution_count": 26,
   "metadata": {},
   "outputs": [
    {
     "data": {
      "text/plain": [
       "['ashish', 'rajat', 'himanshu', 'ash', 'rat', 'hima']"
      ]
     },
     "execution_count": 26,
     "metadata": {},
     "output_type": "execute_result"
    }
   ],
   "source": [
    "a=[\"ashish\",\"rajat\",\"himanshu\"]\n",
    "b=[\"ash\",\"rat\",\"hima\"]\n",
    "a.extend(b)\n",
    "a"
   ]
  },
  {
   "cell_type": "markdown",
   "metadata": {},
   "source": [
    "# To delete Data from list"
   ]
  },
  {
   "cell_type": "markdown",
   "metadata": {},
   "source": [
    "pop function to delete some element from list , it will delete element from last by default and also from given index ( POP )"
   ]
  },
  {
   "cell_type": "code",
   "execution_count": 29,
   "metadata": {},
   "outputs": [
    {
     "data": {
      "text/plain": [
       "['ashish', 'rajat', 'ash', 'rat', 'hima']"
      ]
     },
     "execution_count": 29,
     "metadata": {},
     "output_type": "execute_result"
    }
   ],
   "source": [
    "a=[\"ashish\",\"rajat\",\"himanshu\",\"ash\",\"rat\",\"hima\"]\n",
    "a.pop(2)\n",
    "a"
   ]
  },
  {
   "cell_type": "markdown",
   "metadata": {},
   "source": [
    "To remove a specific element from list ( Remove)"
   ]
  },
  {
   "cell_type": "code",
   "execution_count": 31,
   "metadata": {},
   "outputs": [
    {
     "data": {
      "text/plain": [
       "['ashish', 'himanshu', 'ash', 'rat', 'hima']"
      ]
     },
     "execution_count": 31,
     "metadata": {},
     "output_type": "execute_result"
    }
   ],
   "source": [
    "a=[\"ashish\",\"rajat\",\"himanshu\",\"ash\",\"rat\",\"hima\"]\n",
    "a.remove(\"rajat\")\n",
    "a"
   ]
  },
  {
   "cell_type": "markdown",
   "metadata": {},
   "source": [
    "____To add data we use ( append, extend , insert )     \n",
    "to delete data we use ( pop , remove ) ____"
   ]
  },
  {
   "cell_type": "markdown",
   "metadata": {},
   "source": [
    "_____to check whether an element is present in list or not we use ( in ) _____"
   ]
  },
  {
   "cell_type": "code",
   "execution_count": 34,
   "metadata": {},
   "outputs": [
    {
     "name": "stdout",
     "output_type": "stream",
     "text": [
      "yes\n"
     ]
    }
   ],
   "source": [
    "a=[\"ashish\",\"rajat\",\"himanshu\"]\n",
    "if \"ashish\" in a:\n",
    "    print (\"yes\")\n",
    "else:\n",
    "    print(\"no \")"
   ]
  },
  {
   "cell_type": "markdown",
   "metadata": {},
   "source": [
    "#  More strings methods "
   ]
  },
  {
   "cell_type": "markdown",
   "metadata": {},
   "source": [
    "     count\n",
    "     sort\n",
    "     reverse\n",
    "     copy     "
   ]
  },
  {
   "cell_type": "code",
   "execution_count": 37,
   "metadata": {},
   "outputs": [
    {
     "data": {
      "text/plain": [
       "1"
      ]
     },
     "execution_count": 37,
     "metadata": {},
     "output_type": "execute_result"
    }
   ],
   "source": [
    "a=[\"ashish\",\"rajat\",\"himanshu\"]\n",
    "a.count(\"ashish\")\n"
   ]
  },
  {
   "cell_type": "code",
   "execution_count": 38,
   "metadata": {},
   "outputs": [
    {
     "data": {
      "text/plain": [
       "[1, 5, 6, 8, 55, 55, 77, 85]"
      ]
     },
     "execution_count": 38,
     "metadata": {},
     "output_type": "execute_result"
    }
   ],
   "source": [
    "a=[55,85,77,1,5,6,8,55]\n",
    "a.sort()\n",
    "a"
   ]
  },
  {
   "cell_type": "code",
   "execution_count": 39,
   "metadata": {},
   "outputs": [
    {
     "data": {
      "text/plain": [
       "[5, 8, 6, 5, 1, 77, 85, 55]"
      ]
     },
     "execution_count": 39,
     "metadata": {},
     "output_type": "execute_result"
    }
   ],
   "source": [
    "a=[55,85,77,1,5,6,8,5]\n",
    "a.reverse()\n",
    "a"
   ]
  },
  {
   "cell_type": "code",
   "execution_count": 40,
   "metadata": {},
   "outputs": [
    {
     "data": {
      "text/plain": [
       "[]"
      ]
     },
     "execution_count": 40,
     "metadata": {},
     "output_type": "execute_result"
    }
   ],
   "source": [
    "a=[55,85,77,1,5,6,8,55]\n",
    "a.clear()\n",
    "a"
   ]
  },
  {
   "cell_type": "markdown",
   "metadata": {},
   "source": [
    "slicing "
   ]
  },
  {
   "cell_type": "code",
   "execution_count": null,
   "metadata": {},
   "outputs": [],
   "source": [
    "\n",
    "A=(\"fbfobdbd\")\n",
    "print(A[3]) \n",
    "print(A[-2]) # it print s of ashish \n",
    "print(A[2,-2]) #from 2 to -2 index\n",
    "print(A[2:]) # it print from 2nd index to n\n",
    "print(A[: 2]) #.. from strting to 2nd  index"
   ]
  },
  {
   "cell_type": "markdown",
   "metadata": {},
   "source": [
    "\n",
    "String Method ( )\n",
    " a=\"ashish\" \n",
    "len (\"ashish\")  : ans= 6\n",
    "b=len(a) : ans = 6  \n",
    "print(a.lower()) := print all letters in lowercase\n",
    "print(a.upper()) ;= print all letter in uppercase\n",
    "print(a.title())   : first letter capital and other in lower case\n",
    "Print(a.count(“h”)) : it counts that how many times h occurs in ashish"
   ]
  },
  {
   "cell_type": "code",
   "execution_count": null,
   "metadata": {},
   "outputs": [],
   "source": [
    "Remove Spaces In string ( )\n",
    "A= ”                   ashish            ”\n",
    "To remove lefr space we have                               print (a.lstrip ())\n",
    "Tpo remove right we have                                      print (a.rstrip())\n",
    "To remove space from both sides we have            print (a strip())\n"
   ]
  },
  {
   "cell_type": "code",
   "execution_count": null,
   "metadata": {},
   "outputs": [],
   "source": [
    "\n",
    "Replace ( )\n",
    "a= (\"hey how r uh .. r uh in college?\")\n",
    "print(a.replace (\"r\",\"are\"))\n",
    "result = hey how are uh. are uh in college?\n"
   ]
  },
  {
   "cell_type": "code",
   "execution_count": null,
   "metadata": {},
   "outputs": [],
   "source": [
    "h=(\"hellow,how r uh . where r u going . what r uh doing . what r your hobbies\")\n",
    ">>> print(h.replace(\"r\",\"are\"))\n",
    "hellow,how are uh . whearee are u going . what are uh doing . what are youare hobbies\n",
    ">>> print(h.replace(\"r\",\"are\",3))\n",
    "hellow,how are uh . whearee are u going . what r uh doing . what r your hobbies\n",
    "\n",
    "print(h.find(\"r\"))\n",
    "11"
   ]
  },
  {
   "cell_type": "code",
   "execution_count": null,
   "metadata": {},
   "outputs": [],
   "source": [
    "\n",
    "Print *************\n",
    "\n",
    "a=\"ashish\"\n",
    ">>> print(a.center(22,\"*\"))\n",
    "********ashish********\n",
    "a=input(str(\"hi\"))\n",
    "print(a.center(22,\"*\"))\n",
    "print(a.center(len(a) +44 ,\"*\"))\n"
   ]
  },
  {
   "cell_type": "markdown",
   "metadata": {},
   "source": [
    "# split method (split)"
   ]
  },
  {
   "cell_type": "markdown",
   "metadata": {},
   "source": [
    "split method (split)"
   ]
  },
  {
   "cell_type": "code",
   "execution_count": 43,
   "metadata": {},
   "outputs": [
    {
     "data": {
      "text/plain": [
       "['gdwvbkcdbbcec c', 'bicvebcbieccboebccbc=end']"
      ]
     },
     "execution_count": 43,
     "metadata": {},
     "output_type": "execute_result"
    }
   ],
   "source": [
    "a=\"gdwvbkcdbbcec c&bicvebcbieccboebccbc=end\"\n",
    "b=a.split(\"&\")\n",
    "b "
   ]
  },
  {
   "cell_type": "markdown",
   "metadata": {},
   "source": [
    "Join method"
   ]
  },
  {
   "cell_type": "code",
   "execution_count": 45,
   "metadata": {},
   "outputs": [
    {
     "name": "stdout",
     "output_type": "stream",
     "text": [
      "ashish,24\n"
     ]
    }
   ],
   "source": [
    "a=[\"ashish\", \"24\"]\n",
    "print(\",\".join(a))"
   ]
  },
  {
   "cell_type": "markdown",
   "metadata": {},
   "source": [
    "strings are immutable but lists are mutable     ,\n",
    "we have to make new string to change in string but in list the function will change the orignal list\n",
    "ex     \n",
    " it wil capatilize the first letter of string"
   ]
  },
  {
   "cell_type": "code",
   "execution_count": 47,
   "metadata": {},
   "outputs": [
    {
     "data": {
      "text/plain": [
       "'Ashishkumar'"
      ]
     },
     "execution_count": 47,
     "metadata": {},
     "output_type": "execute_result"
    }
   ],
   "source": [
    "a=\"ashishkumar\"\n",
    "b=a.title()\n",
    "b"
   ]
  },
  {
   "cell_type": "markdown",
   "metadata": {},
   "source": [
    "#  _____To access List in List_____"
   ]
  },
  {
   "cell_type": "code",
   "execution_count": 50,
   "metadata": {},
   "outputs": [
    {
     "name": "stdout",
     "output_type": "stream",
     "text": [
      "12\n",
      "33\n",
      "55\n",
      "41\n",
      "84\n",
      "99\n",
      "78\n",
      "75\n",
      "84\n",
      "45\n",
      "52\n",
      "99\n",
      "74\n"
     ]
    }
   ],
   "source": [
    "a= [[12,33,55],[41,84,99,78],[75,84,45,52,99,74]]\n",
    "for i in a:\n",
    "    for j in i:\n",
    "        print(j)\n",
    "    "
   ]
  },
  {
   "cell_type": "code",
   "execution_count": 51,
   "metadata": {},
   "outputs": [
    {
     "name": "stdout",
     "output_type": "stream",
     "text": [
      "[12, 33, 55]\n",
      "[12, 33, 55]\n",
      "[12, 33, 55]\n",
      "[41, 84, 99, 78]\n",
      "[41, 84, 99, 78]\n",
      "[41, 84, 99, 78]\n",
      "[41, 84, 99, 78]\n",
      "[75, 84, 45, 52, 99, 74]\n",
      "[75, 84, 45, 52, 99, 74]\n",
      "[75, 84, 45, 52, 99, 74]\n",
      "[75, 84, 45, 52, 99, 74]\n",
      "[75, 84, 45, 52, 99, 74]\n",
      "[75, 84, 45, 52, 99, 74]\n"
     ]
    }
   ],
   "source": [
    "a= [[12,33,55],[41,84,99,78],[75,84,45,52,99,74]]\n",
    "for i in a:\n",
    "    for j in i:\n",
    "        print(i)\n",
    "   "
   ]
  },
  {
   "cell_type": "code",
   "execution_count": 52,
   "metadata": {},
   "outputs": [
    {
     "name": "stdout",
     "output_type": "stream",
     "text": [
      "[75, 84, 45, 52, 99, 74]\n"
     ]
    }
   ],
   "source": [
    "a= [[12,33,[75,84,45,52,99,74]],[41,84,99,78],[75,84,45,52,99,74]]\n",
    "print(a[0][2])"
   ]
  },
  {
   "cell_type": "markdown",
   "metadata": {},
   "source": [
    "example:"
   ]
  },
  {
   "cell_type": "code",
   "execution_count": 81,
   "metadata": {},
   "outputs": [
    {
     "name": "stdout",
     "output_type": "stream",
     "text": [
      "[range(10, 20)]\n"
     ]
    }
   ],
   "source": [
    "def mylist ( ):\n",
    "    a=[range(10,20)]\n",
    "    print(a[: : -1])\n",
    "    \n",
    "mylist()"
   ]
  },
  {
   "cell_type": "markdown",
   "metadata": {},
   "source": [
    "method 2: "
   ]
  },
  {
   "cell_type": "code",
   "execution_count": 80,
   "metadata": {},
   "outputs": [
    {
     "data": {
      "text/plain": [
       "[range(10, 20)]"
      ]
     },
     "execution_count": 80,
     "metadata": {},
     "output_type": "execute_result"
    }
   ],
   "source": [
    "def hey():\n",
    "    a=[range(10,20)]\n",
    "    a.reverse()\n",
    "    return a\n",
    "hey()"
   ]
  },
  {
   "cell_type": "markdown",
   "metadata": {},
   "source": [
    "ex:\n",
    "    "
   ]
  },
  {
   "cell_type": "code",
   "execution_count": 62,
   "metadata": {},
   "outputs": [
    {
     "data": {
      "text/plain": [
       "['hsihsa', 'tajar', 'neevan']"
      ]
     },
     "execution_count": 62,
     "metadata": {},
     "output_type": "execute_result"
    }
   ],
   "source": [
    "def example(ex):\n",
    "    elements=[]\n",
    "    for i in ex:\n",
    "        elements.append(i[: : -1])\n",
    "    return elements\n",
    "ex=[\"ashish\",\"rajat\",\"naveen\"]\n",
    "example(ex)\n",
    "    "
   ]
  },
  {
   "cell_type": "markdown",
   "metadata": {},
   "source": [
    "Example to filter odd and even numbers in list and then to manage them in difrent-diffrent list....."
   ]
  },
  {
   "cell_type": "code",
   "execution_count": 63,
   "metadata": {},
   "outputs": [
    {
     "name": "stdout",
     "output_type": "stream",
     "text": [
      "[[1, 5, 7, 9, 7, 5, 3], [8, 8, 6, 2, 2, 0, 6]]\n"
     ]
    }
   ],
   "source": [
    "def filter_odd_even(nums):\n",
    "    odd=[]\n",
    "    even=[]\n",
    "    for i in nums:\n",
    "        if i%2==0:\n",
    "            even.append(i)\n",
    "        else:\n",
    "            odd.append(i)\n",
    "    output=[odd,even]\n",
    "    return output\n",
    "nums=[1,5,8,8,7,9,6,7,5,2,2,0,6,3]\n",
    "print(filter_odd_even(nums))\n",
    "        "
   ]
  },
  {
   "cell_type": "markdown",
   "metadata": {},
   "source": [
    "Example: pass two list and collect same numbers from both list and make a new list and store them :....."
   ]
  },
  {
   "cell_type": "code",
   "execution_count": 66,
   "metadata": {},
   "outputs": [
    {
     "data": {
      "text/plain": [
       "[1, 7, 2]"
      ]
     },
     "execution_count": 66,
     "metadata": {},
     "output_type": "execute_result"
    }
   ],
   "source": [
    "def common_finder(list1,list2):\n",
    "    output=[]\n",
    "    for i in list1:\n",
    "        for i in list2:\n",
    "            output.append(i)\n",
    "        return output\n",
    "common_finder([1,7,5],[1,7,2])"
   ]
  },
  {
   "cell_type": "markdown",
   "metadata": {},
   "source": [
    "# Minmum and Maximum function :- ................ ( MIN, MAX )"
   ]
  },
  {
   "cell_type": "code",
   "execution_count": 76,
   "metadata": {},
   "outputs": [
    {
     "data": {
      "text/plain": [
       "(range(10, 30), range(10, 30))"
      ]
     },
     "execution_count": 76,
     "metadata": {},
     "output_type": "execute_result"
    }
   ],
   "source": [
    "\n",
    "aa=[range(10,30)]\n",
    "cc=min(aa)\n",
    "dd=max(aa)\n",
    "cc,dd"
   ]
  },
  {
   "cell_type": "markdown",
   "metadata": {},
   "source": [
    "sorting acc to min and max function"
   ]
  },
  {
   "cell_type": "code",
   "execution_count": 11,
   "metadata": {},
   "outputs": [
    {
     "data": {
      "text/plain": [
       "([{'model': 'chinese ', 'price': 1100},\n",
       "  {'model': 'indian ', 'price': 5000},\n",
       "  {'model': 'korean ', 'price': 7000},\n",
       "  {'model': 'german ', 'price': 45000},\n",
       "  {'model': 'american', 'price': 800000}],\n",
       " [{'model': 'american', 'price': 800000},\n",
       "  {'model': 'german ', 'price': 45000},\n",
       "  {'model': 'korean ', 'price': 7000},\n",
       "  {'model': 'indian ', 'price': 5000},\n",
       "  {'model': 'chinese ', 'price': 1100}])"
      ]
     },
     "execution_count": 11,
     "metadata": {},
     "output_type": "execute_result"
    }
   ],
   "source": [
    "guitars=[ {\"model\": \"indian \", \"price\":5000},\n",
    "         {\"model\": \"chinese \", \"price\":1100},\n",
    "         {\"model\": \"german \", \"price\":45000},\n",
    "         {\"model\": \"korean \", \"price\":7000},\n",
    "         {\"model\": \"american\", \"price\":800000} ]\n",
    "a=(sorted(guitars,key=lambda d:d[\"price\"], reverse = False ))\n",
    "b=(sorted(guitars,key=lambda d:d[\"price\"], reverse = True ))\n",
    "a, b"
   ]
  },
  {
   "cell_type": "markdown",
   "metadata": {},
   "source": [
    "# TUPPLES"
   ]
  },
  {
   "cell_type": "markdown",
   "metadata": {},
   "source": [
    "Tupples are immutabe, we use tupple when we dont want to change our value:"
   ]
  },
  {
   "cell_type": "code",
   "execution_count": 71,
   "metadata": {},
   "outputs": [
    {
     "data": {
      "text/plain": [
       "tuple"
      ]
     },
     "execution_count": 71,
     "metadata": {},
     "output_type": "execute_result"
    }
   ],
   "source": [
    "a=(4,5,2,5)\n",
    "type(a)"
   ]
  },
  {
   "cell_type": "markdown",
   "metadata": {},
   "source": [
    "# Map Function \n"
   ]
  },
  {
   "cell_type": "code",
   "execution_count": 20,
   "metadata": {},
   "outputs": [
    {
     "data": {
      "text/plain": [
       "[1, 4, 9, 25, 64]"
      ]
     },
     "execution_count": 20,
     "metadata": {},
     "output_type": "execute_result"
    }
   ],
   "source": [
    "a=[1,2,3,5,8]\n",
    "def ashish(a):\n",
    "    return a**2\n",
    "z=list(map(ashish,a))\n",
    "z"
   ]
  },
  {
   "cell_type": "markdown",
   "metadata": {},
   "source": [
    "# Zip Function"
   ]
  },
  {
   "cell_type": "code",
   "execution_count": 4,
   "metadata": {},
   "outputs": [
    {
     "data": {
      "text/plain": [
       "[('ashish', 'cse'), ('rajat', 'ece'), ('naveen', 'mech')]"
      ]
     },
     "execution_count": 4,
     "metadata": {},
     "output_type": "execute_result"
    }
   ],
   "source": [
    "a=[\"ashish\",\"rajat\",\"naveen\"]\n",
    "b=[\"cse\", \"ece\", \"mech\"]\n",
    "c=list(zip(a,b))\n",
    "c"
   ]
  },
  {
   "cell_type": "code",
   "execution_count": 8,
   "metadata": {},
   "outputs": [
    {
     "data": {
      "text/plain": [
       "(('ashish', 'rajat', 'naveen'), ('cse', 'ece', 'mech'))"
      ]
     },
     "execution_count": 8,
     "metadata": {},
     "output_type": "execute_result"
    }
   ],
   "source": [
    "a=[('ashish', 'cse'), ('rajat', 'ece'), ('naveen', 'mech')]\n",
    "b,c=list(zip(*a))\n",
    "b,c"
   ]
  },
  {
   "cell_type": "markdown",
   "metadata": {},
   "source": [
    "# To find Help and doc function"
   ]
  },
  {
   "cell_type": "code",
   "execution_count": 17,
   "metadata": {},
   "outputs": [
    {
     "data": {
      "text/plain": [
       "'Built-in mutable sequence.\\n\\nIf no argument is given, the constructor creates a new empty list.\\nThe argument must be an iterable if specified.Built-in mutable sequence.\\n\\nIf no argument is given, the constructor creates a new empty list.\\nThe argument must be an iterable if specified.'"
      ]
     },
     "execution_count": 17,
     "metadata": {},
     "output_type": "execute_result"
    }
   ],
   "source": [
    "def ashish(a):\n",
    "    return a*2\n",
    "ashish(a.__doc__)"
   ]
  },
  {
   "cell_type": "code",
   "execution_count": 16,
   "metadata": {},
   "outputs": [
    {
     "name": "stdout",
     "output_type": "stream",
     "text": [
      "Help on built-in function sum in module builtins:\n",
      "\n",
      "sum(iterable, start=0, /)\n",
      "    Return the sum of a 'start' value (default: 0) plus an iterable of numbers\n",
      "    \n",
      "    When the iterable is empty, return the start value.\n",
      "    This function is intended specifically for use with numeric values and may\n",
      "    reject non-numeric types.\n",
      "\n"
     ]
    }
   ],
   "source": [
    "print=help(sum)"
   ]
  },
  {
   "cell_type": "markdown",
   "metadata": {},
   "source": [
    "# Pass Function as argument"
   ]
  },
  {
   "cell_type": "code",
   "execution_count": 33,
   "metadata": {},
   "outputs": [
    {
     "data": {
      "text/plain": [
       "[1, 25, 25, 36, 9]"
      ]
     },
     "execution_count": 33,
     "metadata": {},
     "output_type": "execute_result"
    }
   ],
   "source": [
    "def square (a):\n",
    "    return a**2\n",
    "\n",
    "l=[1,5,5,6,3]\n",
    "\n",
    "def my_map(func, l):\n",
    "    new_list=[]\n",
    "    for item in l:\n",
    "        new_list.append(func(item))\n",
    "    return new_list\n",
    "\n",
    "z=my_map(square,l)\n",
    "z"
   ]
  },
  {
   "cell_type": "markdown",
   "metadata": {},
   "source": [
    "# Function returning function"
   ]
  },
  {
   "cell_type": "markdown",
   "metadata": {},
   "source": [
    "def outer_func():\n",
    "    def inner_func():\n",
    "        print(\"inside inner func\")\n",
    "    return inner_func\n",
    "def outer_func2(msg):\n",
    "    def inner_func2():\n",
    "        print(\" message is hiii\")\n",
    "    return inner_func2\n",
    "var=outer_func2(\"hii m ashish\")\n",
    "var()"
   ]
  },
  {
   "cell_type": "markdown",
   "metadata": {},
   "source": [
    "                                                                UNIX\n",
    "UNIX COMMANDS \n",
    "1.\tPWD – public work directory (shows the current directory where we r)\n",
    "2.\tCd – change directory (to change directory) \n",
    "3.\tCd  .. – to come back (back command)\n",
    "4.\tCd “folder name” – to enter in any folder\n",
    "5.\tLs – list command, (it shows all the object in that directory or folder)\n",
    "6.\tmkdir - make directory (to make folders)\n",
    "7.\tTouch - to make files (ashish.txt ashish.py or other)\n",
    "8.\tRm “filename.txt” – to remove file or delete\n",
    "9.\tRm -rf “folder name” - remove folder (to remove folder)\n",
    "10.\tClear – to clear screen\n",
    "11.\tCode “filename.py” – to open file in >>> (we can directly use this code to create and open file in >>>)\n",
    "12.\tmv first file name.py   rename.py – to rename files\n",
    "13.\tcp file.py ./newfolder/ - to copy file\n"
   ]
  },
  {
   "cell_type": "markdown",
   "metadata": {},
   "source": [
    "# PATTERN Making"
   ]
  },
  {
   "cell_type": "code",
   "execution_count": 10,
   "metadata": {},
   "outputs": [
    {
     "name": "stdout",
     "output_type": "stream",
     "text": [
      "* * * * * \n",
      "*       * \n",
      "*       * \n",
      "* * * * * \n",
      "*       * \n",
      "*       * \n",
      "*       * \n"
     ]
    }
   ],
   "source": [
    "for row in range (7):\n",
    "    for col in range (5 ):\n",
    "        if (col==0 or col == 4) or (( row==0 or row ==3) and (col >0 and col<4)):\n",
    "            print(\"*\",end=\" \") \n",
    "        else:\n",
    "            print(end=\"  \")\n",
    "    print()"
   ]
  },
  {
   "cell_type": "code",
   "execution_count": 3,
   "metadata": {},
   "outputs": [
    {
     "name": "stdout",
     "output_type": "stream",
     "text": [
      "* * * *   \n",
      "*       * \n",
      "*       * \n",
      "*       * \n",
      "*       * \n",
      "*       * \n",
      "* * * *   \n"
     ]
    }
   ],
   "source": [
    "for row in range ( 7):\n",
    "    for col in range (5 ):\n",
    "        if                        (col ==0) or (col==4 and (row!=0 and row!=6)) or ((row==0 or row==6) and (col>0 and col<4)):\n",
    "            print( \"*\",end=\" \")\n",
    "        else:\n",
    "            print(end=\"  \")\n",
    "    print()"
   ]
  },
  {
   "cell_type": "code",
   "execution_count": 2,
   "metadata": {},
   "outputs": [
    {
     "name": "stdout",
     "output_type": "stream",
     "text": [
      "  * * * * \n",
      "  *       \n",
      "  *       \n",
      "  * * * * \n",
      "  *       \n",
      "  *       \n",
      "  *       \n"
     ]
    }
   ],
   "source": [
    "for row in range (7):\n",
    "    for column in range (5 ):\n",
    "        if                      (column == 1 or ((row == 0 or row == 3) and column > 0 and column < 5)\n",
    "            \n",
    "            or\n",
    "            \n",
    "                                 ((column == 5 or column == 1) and (row == 1 or row == 2))):\n",
    "            print( \"*\",end=\" \")\n",
    "        else:\n",
    "            print(end=\"  \")\n",
    "    print()"
   ]
  },
  {
   "cell_type": "code",
   "execution_count": 4,
   "metadata": {},
   "outputs": [
    {
     "name": "stdout",
     "output_type": "stream",
     "text": [
      "  **** \n",
      " *     \n",
      " *     \n",
      "  ***  \n",
      "     * \n",
      "     * \n",
      " ****  \n",
      "\n"
     ]
    }
   ],
   "source": [
    "result_str=\"\";    \n",
    "for row in range(0,7):    \n",
    "    for column in range(0,7):     \n",
    "        if (((row == 0 or row == 3 or row == 6) and column > 1 and column < 5) or (column == 1 and (row == 1 or row == 2 or row == 6)) or (column == 5 and (row == 0 or row == 4 or row == 5))):  \n",
    "            result_str=result_str+\"*\"    \n",
    "        else:      \n",
    "            result_str=result_str+\" \"    \n",
    "    result_str=result_str+\"\\n\"    \n",
    "print(result_str);"
   ]
  },
  {
   "cell_type": "code",
   "execution_count": 9,
   "metadata": {},
   "outputs": [
    {
     "name": "stdout",
     "output_type": "stream",
     "text": [
      "  *       *   \n",
      "  *       *   \n",
      "  * *   * *   \n",
      "  *   *   *   \n",
      "  *       *   \n",
      "  *       *   \n",
      "  *       *   \n",
      "\n"
     ]
    }
   ],
   "source": [
    "result_str=\"\";    \n",
    "for row in range(0,7):    \n",
    "    for column in range(0,7):     \n",
    "        if (column == 1 or column == 5 or (row == 2 and (column == 2 or column == 4)) or (row == 3 and column == 3)):  \n",
    "            result_str=result_str+\"* \"    \n",
    "        else:      \n",
    "            result_str=result_str+\"  \"    \n",
    "    result_str=result_str+\"\\n\"    \n",
    "print(result_str);\n"
   ]
  },
  {
   "cell_type": "code",
   "execution_count": 8,
   "metadata": {},
   "outputs": [
    {
     "name": "stdout",
     "output_type": "stream",
     "text": [
      " ****  \n",
      " *   * \n",
      " *   * \n",
      " ****  \n",
      " *     \n",
      " *     \n",
      " *     \n",
      "\n"
     ]
    }
   ],
   "source": [
    "result_str=\"\";    \n",
    "for row in range(0,7):    \n",
    "    for column in range(0,7):     \n",
    "        if (column == 1 or ((row == 0 or row == 3) and column > 0 and column < 5) or ((column == 5 or column == 1) and (row == 1 or row == 2))):  \n",
    "            result_str=result_str+\"*\"    \n",
    "        else:      \n",
    "            result_str=result_str+\" \"    \n",
    "    result_str=result_str+\"\\n\"    \n",
    "print(result_str);"
   ]
  },
  {
   "cell_type": "code",
   "execution_count": 7,
   "metadata": {},
   "outputs": [
    {
     "name": "stdout",
     "output_type": "stream",
     "text": [
      " ****  \n",
      " *   * \n",
      " *   * \n",
      " ****  \n",
      " * *   \n",
      " *  *  \n",
      " *   * \n",
      "\n"
     ]
    }
   ],
   "source": [
    "result_str=\"\";    \n",
    "for row in range(0,7):    \n",
    "    for column in range(0,7):     \n",
    "        if (column == 1 or ((row == 0 or row == 3) and column > 1 and column < 5) or (column == 5 and row != 0 and row < 3) or (column == row - 1 and row > 2)):  \n",
    "            result_str=result_str+\"*\"    \n",
    "        else:      \n",
    "            result_str=result_str+\" \"    \n",
    "    result_str=result_str+\"\\n\"    \n",
    "print(result_str);"
   ]
  },
  {
   "cell_type": "code",
   "execution_count": 6,
   "metadata": {},
   "outputs": [
    {
     "name": "stdout",
     "output_type": "stream",
     "text": [
      " *   * \n",
      " *   * \n",
      " *   * \n",
      " *   * \n",
      " *   * \n",
      " *   * \n",
      "  ***  \n",
      "\n"
     ]
    }
   ],
   "source": [
    "result_str=\"\";    \n",
    "for row in range(0,7):    \n",
    "    for column in range(0,7):     \n",
    "        if (((column == 1 or column == 5) and row != 6) or (row == 6 and column > 1 and column < 5)):  \n",
    "            result_str=result_str+\"*\"    \n",
    "        else:      \n",
    "            result_str=result_str+\" \"    \n",
    "    result_str=result_str+\"\\n\"    \n",
    "print(result_str);"
   ]
  },
  {
   "cell_type": "code",
   "execution_count": 5,
   "metadata": {},
   "outputs": [
    {
     "name": "stdout",
     "output_type": "stream",
     "text": [
      "*******\n",
      "     * \n",
      "    *  \n",
      "   *   \n",
      "  *    \n",
      " *     \n",
      "*******\n",
      "\n"
     ]
    }
   ],
   "source": [
    "result_str=\"\";    \n",
    "for row in range(0,7):    \n",
    "    for column in range(0,7):     \n",
    "        if (((row == 0 or row == 6) and column >= 0 and column <= 6) or row+column==6):  \n",
    "            result_str=result_str+\"*\"    \n",
    "        else:      \n",
    "            result_str=result_str+\" \"    \n",
    "    result_str=result_str+\"\\n\"    \n",
    "print(result_str);\n",
    "    "
   ]
  },
  {
   "cell_type": "markdown",
   "metadata": {},
   "source": [
    "#                 PYTHON ( OOPS )"
   ]
  },
  {
   "cell_type": "markdown",
   "metadata": {},
   "source": [
    "..."
   ]
  },
  {
   "cell_type": "code",
   "execution_count": 1,
   "metadata": {},
   "outputs": [
    {
     "name": "stdout",
     "output_type": "stream",
     "text": [
      "ashsih\n",
      "paramjeet\n"
     ]
    }
   ],
   "source": [
    "class Person:\n",
    "    def __init__(self,first_name,last_name,age):\n",
    "        self.first_name = first_name\n",
    "        self.last_name=last_name\n",
    "        self.age= age\n",
    "\n",
    "one=Person(\"ashsih\",\"kumar\",24)\n",
    "two=Person(\"paramjeet\",\"singh\",23)\n",
    "print(one.first_name)\n",
    "print(two.first_name)"
   ]
  },
  {
   "cell_type": "code",
   "execution_count": 2,
   "metadata": {},
   "outputs": [
    {
     "name": "stdout",
     "output_type": "stream",
     "text": [
      "('city', 1000000, 'honda')\n"
     ]
    }
   ],
   "source": [
    "class Car:\n",
    "    def __init__ (self, model_name, price,brand ):\n",
    "        self.model_name=model_name\n",
    "        self.price=price\n",
    "        self.brand= brand\n",
    "        self.overall= (self.model_name,self.price,self.brand)\n",
    "        \n",
    "car1= Car(\"city\",1000000,\"honda\")\n",
    "print(car1.overall)"
   ]
  },
  {
   "cell_type": "code",
   "execution_count": 3,
   "metadata": {},
   "outputs": [
    {
     "name": "stdout",
     "output_type": "stream",
     "text": [
      "('city', 1000000, 'honda')\n"
     ]
    }
   ],
   "source": [
    "class Car:\n",
    "    def __init__ (self, model_name, price,brand ):\n",
    "        self.model_name=model_name\n",
    "        self.price=price\n",
    "        self.brand= brand\n",
    "        self.overall= (self.model_name,self.price,self.brand)\n",
    "        \n",
    "car1= Car(\"city\",1000000,\"honda\")\n",
    "print(car1.overall)"
   ]
  },
  {
   "cell_type": "markdown",
   "metadata": {},
   "source": [
    "# inheritance"
   ]
  },
  {
   "cell_type": "markdown",
   "metadata": {},
   "source": [
    "use super keywoard ( super().init)"
   ]
  },
  {
   "cell_type": "code",
   "execution_count": 4,
   "metadata": {},
   "outputs": [
    {
     "data": {
      "text/plain": [
       "('city', 1000000, 'honda', 'white', 1500, '5 meter', '100cc')"
      ]
     },
     "execution_count": 4,
     "metadata": {},
     "output_type": "execute_result"
    }
   ],
   "source": [
    "class Car:\n",
    "    def __init__ (self, model_name, price,brand ):\n",
    "        self.model_name=model_name\n",
    "        self.price=price\n",
    "        self.brand= brand\n",
    "        self.overall= (self.model_name,self.price,self.brand)\n",
    "    \n",
    "class Big_car(Car):\n",
    "    def __init__ (self,model_name,price,brand,colour,height,weight,engine):\n",
    "        super().__init__ (model_name, price,brand )\n",
    "        self.colour=colour\n",
    "        self.height=height\n",
    "        self.weight=weight\n",
    "        self.engine=engine\n",
    "        self.fullspec=(model_name,price,brand,colour,height,weight,engine)\n",
    "car1= Big_car(\"city\",1000000,\"honda\",\"white\",1500,\"5 meter\",\"100cc\")\n",
    "car1.fullspec\n"
   ]
  },
  {
   "cell_type": "code",
   "execution_count": 5,
   "metadata": {},
   "outputs": [
    {
     "name": "stdout",
     "output_type": "stream",
     "text": [
      "pentum\n"
     ]
    }
   ],
   "source": [
    "class Laptop:\n",
    "    def __init__(self, processor,model,colour,year):\n",
    "        self.processor=processor\n",
    "        self.model=model\n",
    "        self.colour=colour\n",
    "        self.year=year\n",
    "first=Laptop(\"pentum\",\"khz\",\"white\",2009)\n",
    "print(first.processor)"
   ]
  },
  {
   "cell_type": "code",
   "execution_count": 6,
   "metadata": {},
   "outputs": [
    {
     "name": "stdout",
     "output_type": "stream",
     "text": [
      "('ashish', 'kumar')\n"
     ]
    }
   ],
   "source": [
    "class Person:\n",
    "    def __init__(self,first_name,last_name,age):\n",
    "        self.first_name = first_name\n",
    "        self.last_name=last_name\n",
    "        self.age= age\n",
    "    def full_name(self):\n",
    "        return (self.first_name, self.last_name)\n",
    "p1=Person(\"ashish\",\"kumar\",24)\n",
    "print(p1.full_name())\n",
    "    \n",
    "    "
   ]
  },
  {
   "cell_type": "code",
   "execution_count": 7,
   "metadata": {},
   "outputs": [
    {
     "name": "stdout",
     "output_type": "stream",
     "text": [
      "47500.0\n"
     ]
    }
   ],
   "source": [
    "class Laptop:\n",
    "    def __init__(self,brand,model,price):\n",
    "        self.brand=brand\n",
    "        self.model=model\n",
    "        self.price=price\n",
    "        self.laptop_name=brand +\" \" + model\n",
    "    def apply_discount(self,num):\n",
    "        off_price=(num/100)*self.price\n",
    "        return (self.price - off_price)\n",
    "    \n",
    "laptop1=Laptop(\"hp\",\"e series\",50000)\n",
    "print(laptop1.apply_discount(5))"
   ]
  },
  {
   "cell_type": "code",
   "execution_count": 8,
   "metadata": {},
   "outputs": [
    {
     "name": "stdout",
     "output_type": "stream",
     "text": [
      "47290.5\n"
     ]
    }
   ],
   "source": [
    "class Laptop:\n",
    "    discount_percentage=10\n",
    "    def __init__(self,brand,model_name,price):\n",
    "        self.brand=brand\n",
    "        self.name=model_name\n",
    "        self.price=price\n",
    "        self.laptop_name=brand+ \" \"+ model_name\n",
    "    def apply_discount(self):\n",
    "        off_price =(Laptop.discount_percentage/100)*self.price\n",
    "        return self.price -off_price\n",
    "laptop1=Laptop(\"hp\",\"bcbc\",52545)\n",
    "laptop2=Laptop(\"apple\",\"mackbook\", 222222)\n",
    "print(laptop1.apply_discount())"
   ]
  },
  {
   "cell_type": "code",
   "execution_count": 9,
   "metadata": {},
   "outputs": [
    {
     "name": "stdout",
     "output_type": "stream",
     "text": [
      "{'brand': 'apple', 'name': 'mackbook', 'price': 23000, 'laptop_name': 'apple mackbook', 'discount_percent': 50}\n",
      "20700.0\n"
     ]
    }
   ],
   "source": [
    "class Laptop:\n",
    "    discount_percent=10\n",
    "    def __init__(self,brand,model_name,price):\n",
    "        self.brand=brand\n",
    "        self.name=model_name\n",
    "        self.price=price\n",
    "        self.laptop_name=brand+ \" \"+ model_name\n",
    "    def apply_discount(self):\n",
    "        off_price =(Laptop.discount_percent/100)*self.price\n",
    "        return self.price -off_price\n",
    "    \n",
    "laptop1=Laptop(\"hp\",\"bcbc\",63000)\n",
    "laptop2=Laptop(\"apple\",\"mackbook\", 23000)\n",
    "laptop2.discount_percent=50 \n",
    "print(laptop2.__dict__)\n",
    "print(laptop2.apply_discount())"
   ]
  },
  {
   "cell_type": "code",
   "execution_count": 10,
   "metadata": {},
   "outputs": [
    {
     "name": "stdout",
     "output_type": "stream",
     "text": [
      "1\n"
     ]
    }
   ],
   "source": [
    "class Person:\n",
    "    count_instance=1\n",
    "    def __init__(self,first_name,last_name,age):\n",
    "        self.first_name = first_name\n",
    "        self.last_name=last_name\n",
    "        self.age= age\n",
    "        \n",
    "p1=Person(\"ashish\",\"kumar\",24)\n",
    "print(Person.count_instance)\n",
    "    \n",
    "    "
   ]
  },
  {
   "cell_type": "code",
   "execution_count": 11,
   "metadata": {},
   "outputs": [
    {
     "name": "stdout",
     "output_type": "stream",
     "text": [
      "('ashish', 'kumar')\n"
     ]
    }
   ],
   "source": [
    "class Person:\n",
    "    count_instance=0\n",
    "    def __init__(self,first_name,last_name,age):\n",
    "        Person.count_instance += 1\n",
    "        self.first_name = first_name\n",
    "        self.last_name=last_name\n",
    "        self.age= age\n",
    "       \n",
    "    @classmethod\n",
    "    def from_string(cls,string):\n",
    "        first,last,age=string.split(\",\")\n",
    "        return cls(first,last,age)\n",
    "    @classmethod\n",
    "    \n",
    "    \n",
    "    def count_instances(cls):\n",
    "        print(\"you have created\",cls.count_instance,\"of\", cls.__name__)\n",
    "    def full_name(self):\n",
    "        return self.first_name, self.last_name\n",
    "    def is_above_18(self):\n",
    "        return self.age>18\n",
    "    \n",
    "p1=Person(\"ashish\",\"kumar\",24)\n",
    "p2=Person(\"rajat\",\"bakshi\",29)\n",
    "p3=Person.from_string(\"ashish,kumar,24\")\n",
    "print(p3.full_name())\n",
    "    \n",
    "    "
   ]
  },
  {
   "cell_type": "code",
   "execution_count": 12,
   "metadata": {},
   "outputs": [
    {
     "name": "stdout",
     "output_type": "stream",
     "text": [
      "('ashish', 'kumar')\n",
      "hellow this is static method\n"
     ]
    }
   ],
   "source": [
    "class Person:\n",
    "    count_instance=0\n",
    "    def __init__(self,first_name,last_name,age):\n",
    "        Person.count_instance += 1\n",
    "        self.first_name = first_name\n",
    "        self.last_name=last_name\n",
    "        self.age= age\n",
    "       \n",
    "    @classmethod\n",
    "    def from_string(cls,string):\n",
    "        first,last,age=string.split(\",\")\n",
    "        return cls(first,last,age)\n",
    "    \n",
    "    @staticmethod\n",
    "    def hello():\n",
    "        print(\"hellow this is static method\")\n",
    "    \n",
    "    @classmethod\n",
    "    \n",
    "    \n",
    "    def count_instances(cls):\n",
    "        print(\"you have created\",cls.count_instance,\"of\", cls.__name__)\n",
    "    def full_name(self):\n",
    "        return self.first_name, self.last_name\n",
    "    def is_above_18(self):\n",
    "        return self.age>18\n",
    "    \n",
    "p1=Person(\"ashish\",\"kumar\",24)\n",
    "p2=Person(\"rajat\",\"bakshi\",29)\n",
    "p3=Person.from_string(\"ashish,kumar,24\")\n",
    "print(p3.full_name())\n",
    "\n",
    "Person.hello()"
   ]
  },
  {
   "cell_type": "code",
   "execution_count": null,
   "metadata": {},
   "outputs": [],
   "source": []
  }
 ],
 "metadata": {
  "kernelspec": {
   "display_name": "Python 3",
   "language": "python",
   "name": "python3"
  },
  "language_info": {
   "codemirror_mode": {
    "name": "ipython",
    "version": 3
   },
   "file_extension": ".py",
   "mimetype": "text/x-python",
   "name": "python",
   "nbconvert_exporter": "python",
   "pygments_lexer": "ipython3",
   "version": "3.7.6"
  }
 },
 "nbformat": 4,
 "nbformat_minor": 2
}
