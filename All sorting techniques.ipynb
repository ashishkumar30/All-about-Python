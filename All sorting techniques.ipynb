{
 "cells": [
  {
   "cell_type": "markdown",
   "metadata": {},
   "source": [
    "# Bubble Sort "
   ]
  },
  {
   "cell_type": "code",
   "execution_count": 24,
   "metadata": {},
   "outputs": [
    {
     "data": {
      "text/plain": [
       "[2, 2, 2, 4, 4, 4, 5, 5, 6, 6, 6, 6, 7, 8, 8]"
      ]
     },
     "execution_count": 24,
     "metadata": {},
     "output_type": "execute_result"
    }
   ],
   "source": [
    "def bubble_sort(arr):\n",
    "    def swap(i, j):\n",
    "        arr[i], arr[j] = arr[j], arr[i]\n",
    "\n",
    "    n = len(arr)\n",
    "    swapped = True\n",
    "    \n",
    "    x = -1\n",
    "    while swapped:\n",
    "        swapped = False\n",
    "        x = x + 1\n",
    "        for i in range(1, n-x):\n",
    "            if arr[i - 1] > arr[i]:\n",
    "                swap(i - 1, i)\n",
    "                swapped = True\n",
    "                    \n",
    "    return arr\n",
    "ar=[6,8,4,6,2,4,7,6,8,5,2,4,6,2,5]\n",
    "z=bubble_sort(ar)\n",
    "z"
   ]
  },
  {
   "cell_type": "markdown",
   "metadata": {},
   "source": [
    "# selection sort\n"
   ]
  },
  {
   "cell_type": "code",
   "execution_count": 25,
   "metadata": {},
   "outputs": [
    {
     "data": {
      "text/plain": [
       "[2, 2, 2, 4, 4, 4, 5, 5, 6, 6, 6, 6, 7, 8, 8]"
      ]
     },
     "execution_count": 25,
     "metadata": {},
     "output_type": "execute_result"
    }
   ],
   "source": [
    "def selection_sort(arr):        \n",
    "    for i in range(len(arr)):\n",
    "        minimum = i\n",
    "        for j in range(i + 1, len(arr)):\n",
    "            if arr[j] < arr[minimum]:\n",
    "                minimum = j\n",
    "\n",
    "        arr[minimum], arr[i] = arr[i], arr[minimum]\n",
    "            \n",
    "    return arr\n",
    "ar=[6,8,4,6,2,4,7,6,8,5,2,4,6,2,5]\n",
    "z=selection_sort(ar)\n",
    "z"
   ]
  },
  {
   "cell_type": "markdown",
   "metadata": {},
   "source": [
    "# insertion sort"
   ]
  },
  {
   "cell_type": "code",
   "execution_count": 19,
   "metadata": {},
   "outputs": [
    {
     "data": {
      "text/plain": [
       "[2, 2, 2, 4, 4, 4, 5, 5, 6, 6, 6, 6, 7, 8, 8]"
      ]
     },
     "execution_count": 19,
     "metadata": {},
     "output_type": "execute_result"
    }
   ],
   "source": [
    "def insersion_sort(arr, simulation=False):\n",
    "        \n",
    "    for i in range(len(arr)):\n",
    "        cursor = arr[i]\n",
    "        pos = i\n",
    "        \n",
    "        while pos > 0 and arr[pos - 1] > cursor:\n",
    "            # Swap the number down the list\n",
    "            arr[pos] = arr[pos - 1]\n",
    "            pos = pos - 1\n",
    "        # Break and do the final swap\n",
    "        arr[pos] = cursor\n",
    "\n",
    "    return arr\n",
    "ar=[6,8,4,6,2,4,7,6,8,5,2,4,6,2,5]\n",
    "z=insersion_sort(ar)\n",
    "z"
   ]
  },
  {
   "cell_type": "markdown",
   "metadata": {},
   "source": [
    "# Merge sort"
   ]
  },
  {
   "cell_type": "code",
   "execution_count": 20,
   "metadata": {},
   "outputs": [
    {
     "data": {
      "text/plain": [
       "[2, 2, 2, 4, 4, 4, 5, 5, 6, 6, 6, 6, 7, 8, 8]"
      ]
     },
     "execution_count": 20,
     "metadata": {},
     "output_type": "execute_result"
    }
   ],
   "source": [
    "def merge_sort(arr):\n",
    "    # The last array split\n",
    "    if len(arr) <= 1:\n",
    "        return arr\n",
    "    mid = len(arr) // 2\n",
    "    # Perform merge_sort recursively on both halves\n",
    "    left, right = merge_sort(arr[:mid]), merge_sort(arr[mid:])\n",
    "\n",
    "    # Merge each side together\n",
    "    return merge(left, right, arr.copy())\n",
    "\n",
    "\n",
    "def merge(left, right, merged):\n",
    "\n",
    "    left_cursor, right_cursor = 0, 0\n",
    "    while left_cursor < len(left) and right_cursor < len(right):\n",
    "      \n",
    "        # Sort each one and place into the result\n",
    "        if left[left_cursor] <= right[right_cursor]:\n",
    "            merged[left_cursor+right_cursor]=left[left_cursor]\n",
    "            left_cursor += 1\n",
    "        else:\n",
    "            merged[left_cursor + right_cursor] = right[right_cursor]\n",
    "            right_cursor += 1\n",
    "            \n",
    "    for left_cursor in range(left_cursor, len(left)):\n",
    "        merged[left_cursor + right_cursor] = left[left_cursor]\n",
    "        \n",
    "    for right_cursor in range(right_cursor, len(right)):\n",
    "        merged[left_cursor + right_cursor] = right[right_cursor]\n",
    "\n",
    "    return merged\n",
    "ar=[6,8,4,6,2,4,7,6,8,5,2,4,6,2,5]\n",
    "z=merge_sort(ar)\n",
    "z"
   ]
  }
 ],
 "metadata": {
  "kernelspec": {
   "display_name": "Python 3",
   "language": "python",
   "name": "python3"
  },
  "language_info": {
   "codemirror_mode": {
    "name": "ipython",
    "version": 3
   },
   "file_extension": ".py",
   "mimetype": "text/x-python",
   "name": "python",
   "nbconvert_exporter": "python",
   "pygments_lexer": "ipython3",
   "version": "3.7.3"
  }
 },
 "nbformat": 4,
 "nbformat_minor": 2
}
